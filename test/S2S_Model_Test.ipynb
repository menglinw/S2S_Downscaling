{
 "cells": [
  {
   "cell_type": "code",
   "execution_count": 4,
   "metadata": {},
   "outputs": [
    {
     "name": "stderr",
     "output_type": "stream",
     "text": [
      "C:\\Users\\96349\\anaconda3\\envs\\Downscale_env\\lib\\site-packages\\tensorboard\\compat\\tensorflow_stub\\dtypes.py:541: FutureWarning: Passing (type, 1) or '1type' as a synonym of type is deprecated; in a future version of numpy, it will be understood as (type, (1,)) / '(1,)type'.\n",
      "  _np_qint8 = np.dtype([(\"qint8\", np.int8, 1)])\n",
      "C:\\Users\\96349\\anaconda3\\envs\\Downscale_env\\lib\\site-packages\\tensorboard\\compat\\tensorflow_stub\\dtypes.py:542: FutureWarning: Passing (type, 1) or '1type' as a synonym of type is deprecated; in a future version of numpy, it will be understood as (type, (1,)) / '(1,)type'.\n",
      "  _np_quint8 = np.dtype([(\"quint8\", np.uint8, 1)])\n",
      "C:\\Users\\96349\\anaconda3\\envs\\Downscale_env\\lib\\site-packages\\tensorboard\\compat\\tensorflow_stub\\dtypes.py:543: FutureWarning: Passing (type, 1) or '1type' as a synonym of type is deprecated; in a future version of numpy, it will be understood as (type, (1,)) / '(1,)type'.\n",
      "  _np_qint16 = np.dtype([(\"qint16\", np.int16, 1)])\n",
      "C:\\Users\\96349\\anaconda3\\envs\\Downscale_env\\lib\\site-packages\\tensorboard\\compat\\tensorflow_stub\\dtypes.py:544: FutureWarning: Passing (type, 1) or '1type' as a synonym of type is deprecated; in a future version of numpy, it will be understood as (type, (1,)) / '(1,)type'.\n",
      "  _np_quint16 = np.dtype([(\"quint16\", np.uint16, 1)])\n",
      "C:\\Users\\96349\\anaconda3\\envs\\Downscale_env\\lib\\site-packages\\tensorboard\\compat\\tensorflow_stub\\dtypes.py:545: FutureWarning: Passing (type, 1) or '1type' as a synonym of type is deprecated; in a future version of numpy, it will be understood as (type, (1,)) / '(1,)type'.\n",
      "  _np_qint32 = np.dtype([(\"qint32\", np.int32, 1)])\n",
      "C:\\Users\\96349\\anaconda3\\envs\\Downscale_env\\lib\\site-packages\\tensorboard\\compat\\tensorflow_stub\\dtypes.py:550: FutureWarning: Passing (type, 1) or '1type' as a synonym of type is deprecated; in a future version of numpy, it will be understood as (type, (1,)) / '(1,)type'.\n",
      "  np_resource = np.dtype([(\"resource\", np.ubyte, 1)])\n"
     ]
    }
   ],
   "source": [
    "import os\n",
    "import sys\n",
    "import math\n",
    "import numpy as np\n",
    "import netCDF4 as nc\n",
    "from matplotlib import pyplot as plt\n",
    "from math import exp, sqrt, log\n",
    "import time\n",
    "import geopandas as gpd\n",
    "import pandas as pd\n",
    "import tensorflow as tf\n",
    "from tensorflow import keras\n",
    "from tensorflow.keras import layers\n",
    "from tensorflow.keras.models import Model\n",
    "if '..' not in sys.path:\n",
    "    sys.path.append('..')\n",
    "from importlib import reload\n",
    "#reload(util_tools)\n",
    "import util_tools\n",
    "from util_tools.data_loader import data_processer"
   ]
  },
  {
   "cell_type": "markdown",
   "metadata": {},
   "source": [
    "# 1. Data Processing"
   ]
  },
  {
   "cell_type": "code",
   "execution_count": 2,
   "metadata": {},
   "outputs": [],
   "source": [
    "# define necessary parameters\n",
    "target_var = 'DUSMASS'\n",
    "file_path_g_06 = r'C:\\Users\\96349\\Documents\\Downscale_data\\MERRA2\\G5NR_aerosol_variables_over_MiddleEast_daily_20060516-20070515.nc'\n",
    "file_path_g_05 = r'C:\\Users\\96349\\Documents\\Downscale_data\\MERRA2\\G5NR_aerosol_variables_over_MiddleEast_daily_20050516-20060515.nc'\n",
    "file_path_m = r'C:\\Users\\96349\\Documents\\Downscale_data\\MERRA2\\MERRA2_aerosol_variables_over_MiddleEast_daily_20000516-20180515.nc'\n",
    "file_path_ele = r'C:\\Users\\96349\\Documents\\Downscale_data\\elevation\\elevation_data.npy'\n",
    "file_path_country = [r'C:\\Users\\96349\\Documents\\Downscale_data\\Country_shape\\AFG_adm/AFG_adm0.shp',\n",
    "                     r'C:\\Users\\96349\\Documents\\Downscale_data\\Country_shape\\ARE_adm/ARE_adm0.shp',\n",
    "                     r'C:\\Users\\96349\\Documents\\Downscale_data\\Country_shape\\IRQ_adm/IRQ_adm0.shp',\n",
    "                     r'C:\\Users\\96349\\Documents\\Downscale_data\\Country_shape\\KWT_adm/KWT_adm0.shp',\n",
    "                     r'C:\\Users\\96349\\Documents\\Downscale_data\\Country_shape\\QAT_adm/QAT_adm0.shp',\n",
    "                     r'C:\\Users\\96349\\Documents\\Downscale_data\\Country_shape\\SAU_adm/SAU_adm0.shp']\n",
    "n_lag = 4\n",
    "n_pred = 2\n",
    "task_dim = [5, 5]"
   ]
  },
  {
   "cell_type": "code",
   "execution_count": 188,
   "metadata": {},
   "outputs": [],
   "source": [
    "reload(util_tools.data_loader)\n",
    "import util_tools.data_loader as data_loader"
   ]
  },
  {
   "cell_type": "code",
   "execution_count": 189,
   "metadata": {},
   "outputs": [],
   "source": [
    "data_processor = data_loader.data_processer()\n",
    "g_data, m_data, [G_lats, G_lons, M_lats, M_lons], ele_data = data_processor.load_data(target_var, file_path_g_05, file_path_g_06, file_path_m, file_path_ele, file_path_country)"
   ]
  },
  {
   "cell_type": "code",
   "execution_count": 190,
   "metadata": {},
   "outputs": [],
   "source": [
    "m_data = data_processor.unify_m_data(g_data[:10], m_data, G_lats, G_lons, M_lats, M_lons)"
   ]
  },
  {
   "cell_type": "code",
   "execution_count": 191,
   "metadata": {},
   "outputs": [],
   "source": [
    "match_m_data = m_data[range(1826, 1826+730), :, :]"
   ]
  },
  {
   "cell_type": "code",
   "execution_count": 9,
   "metadata": {},
   "outputs": [
    {
     "data": {
      "text/plain": [
       "'a\\\\test.npy'"
      ]
     },
     "execution_count": 9,
     "metadata": {},
     "output_type": "execute_result"
    }
   ],
   "source": [
    "os.path.join('a', 'test.npy')"
   ]
  },
  {
   "cell_type": "code",
   "execution_count": 192,
   "metadata": {},
   "outputs": [],
   "source": [
    "X_high, X_low, X_ele, X_other, Y = data_processor.flatten(g_data[:10, :10, :10], match_m_data[:10, :10, :10], ele_data[:10, :10],\n",
    "                                                          [G_lats[:10], G_lons[:10]], list(range(10)), n_lag=n_lag, n_pred=n_pred, task_dim=task_dim, is_perm=False, \n",
    "                                                          return_Y=True)"
   ]
  },
  {
   "cell_type": "code",
   "execution_count": 146,
   "metadata": {},
   "outputs": [],
   "source": [
    "def reconstruct(pred_Y, org_dim, task_dim):\n",
    "    rec_Y = dict()\n",
    "    lat_dim = org_dim[0]+1 - pred_Y.shape[-2]\n",
    "    lon_dim = org_dim[1]+1 -pred_Y.shape[-1]\n",
    "    for i, lat_corner in enumerate(range(pred_Y.shape[-2], org_dim[0]+1), 1):\n",
    "        for j, lon_corner in enumerate(range(pred_Y.shape[-1], org_dim[1]+1), 1):\n",
    "            current_index = (i-1)*lon_dim + j-1\n",
    "            current_mtx = pred_Y[current_index]\n",
    "            for k, lat in enumerate(range(lat_corner-task_dim[0], lat_corner)):\n",
    "                for h, lon in enumerate(range(lon_corner-task_dim[1], lon_corner)):\n",
    "                    if (lat, lon) not in rec_Y:\n",
    "                        rec_Y.setdefault((lat, lon), [current_mtx[k, h]])\n",
    "                    else:\n",
    "                        rec_Y[(lat, lon)].append(current_mtx[k, h])\n",
    "    out = np.zeros(org_dim)\n",
    "    for a in range(org_dim[0]):\n",
    "        for b in range(org_dim[1]):\n",
    "            out[a, b] = np.mean(rec_Y[(a, b)])\n",
    "    return out"
   ]
  },
  {
   "cell_type": "code",
   "execution_count": 147,
   "metadata": {},
   "outputs": [],
   "source": [
    "recon_Y = reconstruct(Y[:, 0, :, :], [10, 10], task_dim)"
   ]
  },
  {
   "cell_type": "code",
   "execution_count": 155,
   "metadata": {},
   "outputs": [
    {
     "data": {
      "text/plain": [
       "(3, 1, 10, 10)"
      ]
     },
     "execution_count": 155,
     "metadata": {},
     "output_type": "execute_result"
    }
   ],
   "source": [
    "pred_list = [recon_Y, recon_Y, recon_Y]\n",
    "np.expand_dims(np.array(pred_list), 1).shape"
   ]
  },
  {
   "cell_type": "code",
   "execution_count": 179,
   "metadata": {},
   "outputs": [],
   "source": [
    "temp_matrix = np.zeros((3,3,10, 10))\n",
    "pred_list = [recon_Y,  recon_Y, recon_Y]\n",
    "temp_matrix = np.concatenate([temp_matrix[1:], np.expand_dims(np.array(pred_list), 0)], axis=0)"
   ]
  },
  {
   "cell_type": "code",
   "execution_count": 12,
   "metadata": {},
   "outputs": [
    {
     "data": {
      "text/plain": [
       "1663883632.2123516"
      ]
     },
     "execution_count": 12,
     "metadata": {},
     "output_type": "execute_result"
    }
   ],
   "source": [
    "import time \n",
    "time.time()"
   ]
  },
  {
   "cell_type": "markdown",
   "metadata": {},
   "source": [
    "# 2. GAN model test"
   ]
  },
  {
   "cell_type": "code",
   "execution_count": 193,
   "metadata": {},
   "outputs": [],
   "source": [
    "def nnelu(input):\n",
    "    return tf.add(tf.constant(1, dtype=tf.float32), tf.nn.elu(input))\n",
    "\n",
    "high_input = tf.keras.Input(shape=(n_lag, task_dim[0], task_dim[1], 1))\n",
    "x1 = tf.keras.layers.ConvLSTM2D(16, kernel_size=(3,3), return_sequences=True, activation=tf.keras.layers.LeakyReLU())(high_input)\n",
    "x1 = tf.keras.layers.ConvLSTM2D(16, kernel_size=(3,3), return_sequences=True, activation=tf.keras.layers.LeakyReLU())(x1)\n",
    "x1 = tf.keras.layers.ConvLSTM2D(16, kernel_size=(1,1), activation=tf.keras.layers.LeakyReLU())(x1)\n",
    "x1 = tf.keras.layers.Flatten()(x1)\n",
    "\n",
    "low_input = tf.keras.Input(shape=(n_lag, task_dim[0], task_dim[1], 1))\n",
    "x2 = tf.keras.layers.ConvLSTM2D(16, kernel_size=(3,3), activation=tf.keras.layers.LeakyReLU())(low_input)\n",
    "x2 = tf.keras.layers.Flatten()(x1)\n",
    "\n",
    "ele_input = tf.keras.Input(shape=(task_dim[0], task_dim[1], 1))\n",
    "x3 = tf.keras.layers.Conv2D(16, kernel_size=(3,3), activation=tf.keras.layers.LeakyReLU())(ele_input)\n",
    "x3 = tf.keras.layers.Flatten()(x3)\n",
    "\n",
    "other_input =  tf.keras.Input(shape=(3))\n",
    "x4 = tf.keras.layers.Dense(8, activation=tf.keras.layers.LeakyReLU())(other_input)\n",
    "\n",
    "x = tf.keras.layers.Concatenate(axis=1)([x1, x2, x3, x4])\n",
    "x = tf.keras.layers.Dropout(0.5)(x)\n",
    "x = tf.keras.layers.Dense(30, activation=tf.keras.layers.LeakyReLU())(x)\n",
    "x = tf.keras.layers.Dense(n_pred*np.prod(task_dim), activation=nnelu)(x)\n",
    "x = tf.keras.layers.Reshape([n_pred, task_dim[0], task_dim[1]])(x)\n",
    "generator = tf.keras.Model([high_input, low_input, ele_input, other_input], x)\n",
    "generator.compile(optimizer='adam', loss='mean_absolute_error')"
   ]
  },
  {
   "cell_type": "code",
   "execution_count": 194,
   "metadata": {},
   "outputs": [
    {
     "name": "stdout",
     "output_type": "stream",
     "text": [
      "Epoch 1/100\n",
      "6/6 [==============================] - 10s 15ms/step - loss: 0.2156\n",
      "Epoch 2/100\n",
      "6/6 [==============================] - 0s 16ms/step - loss: 0.1636\n",
      "Epoch 3/100\n",
      "6/6 [==============================] - 0s 16ms/step - loss: 0.1244\n",
      "Epoch 4/100\n",
      "6/6 [==============================] - 0s 17ms/step - loss: 0.1007\n",
      "Epoch 5/100\n",
      "6/6 [==============================] - 0s 17ms/step - loss: 0.0839\n",
      "Epoch 6/100\n",
      "6/6 [==============================] - 0s 18ms/step - loss: 0.0712\n",
      "Epoch 7/100\n",
      "6/6 [==============================] - 0s 18ms/step - loss: 0.0621\n",
      "Epoch 8/100\n",
      "6/6 [==============================] - 0s 19ms/step - loss: 0.0526\n",
      "Epoch 9/100\n",
      "6/6 [==============================] - 0s 19ms/step - loss: 0.0450\n",
      "Epoch 10/100\n",
      "6/6 [==============================] - 0s 18ms/step - loss: 0.0404\n",
      "Epoch 11/100\n",
      "6/6 [==============================] - 0s 19ms/step - loss: 0.0362\n",
      "Epoch 12/100\n",
      "6/6 [==============================] - 0s 18ms/step - loss: 0.0324\n",
      "Epoch 13/100\n",
      "6/6 [==============================] - 0s 20ms/step - loss: 0.0292\n",
      "Epoch 14/100\n",
      "6/6 [==============================] - 0s 19ms/step - loss: 0.0260\n",
      "Epoch 15/100\n",
      "6/6 [==============================] - 0s 21ms/step - loss: 0.0243\n",
      "Epoch 16/100\n",
      "6/6 [==============================] - 0s 19ms/step - loss: 0.0222\n",
      "Epoch 17/100\n",
      "6/6 [==============================] - 0s 18ms/step - loss: 0.0202\n",
      "Epoch 18/100\n",
      "6/6 [==============================] - 0s 18ms/step - loss: 0.0193\n",
      "Epoch 19/100\n",
      "6/6 [==============================] - 0s 18ms/step - loss: 0.0182\n",
      "Epoch 20/100\n",
      "6/6 [==============================] - 0s 19ms/step - loss: 0.0163\n",
      "Epoch 21/100\n",
      "6/6 [==============================] - 0s 18ms/step - loss: 0.0156\n",
      "Epoch 22/100\n",
      "6/6 [==============================] - 0s 18ms/step - loss: 0.0148\n",
      "Epoch 23/100\n",
      "6/6 [==============================] - 0s 18ms/step - loss: 0.0136\n",
      "Epoch 24/100\n",
      "6/6 [==============================] - 0s 18ms/step - loss: 0.0133\n",
      "Epoch 25/100\n",
      "6/6 [==============================] - 0s 18ms/step - loss: 0.0125\n",
      "Epoch 26/100\n",
      "6/6 [==============================] - 0s 18ms/step - loss: 0.0117\n",
      "Epoch 27/100\n",
      "6/6 [==============================] - 0s 19ms/step - loss: 0.0113\n",
      "Epoch 28/100\n",
      "6/6 [==============================] - 0s 36ms/step - loss: 0.0108\n",
      "Epoch 29/100\n",
      "6/6 [==============================] - 0s 20ms/step - loss: 0.0105\n",
      "Epoch 30/100\n",
      "6/6 [==============================] - 0s 21ms/step - loss: 0.0102\n",
      "Epoch 31/100\n",
      "6/6 [==============================] - 0s 22ms/step - loss: 0.0102\n",
      "Epoch 32/100\n",
      "6/6 [==============================] - 0s 20ms/step - loss: 0.0096\n",
      "Epoch 33/100\n",
      "6/6 [==============================] - 0s 20ms/step - loss: 0.0095\n",
      "Epoch 34/100\n",
      "6/6 [==============================] - 0s 20ms/step - loss: 0.0092\n",
      "Epoch 35/100\n",
      "6/6 [==============================] - 0s 20ms/step - loss: 0.0091\n",
      "Epoch 36/100\n",
      "6/6 [==============================] - 0s 21ms/step - loss: 0.0087\n",
      "Epoch 37/100\n",
      "6/6 [==============================] - 0s 18ms/step - loss: 0.0087\n",
      "Epoch 38/100\n",
      "6/6 [==============================] - 0s 18ms/step - loss: 0.0085\n",
      "Epoch 39/100\n",
      "6/6 [==============================] - 0s 19ms/step - loss: 0.0084\n",
      "Epoch 40/100\n",
      "6/6 [==============================] - 0s 19ms/step - loss: 0.0082\n",
      "Epoch 41/100\n",
      "6/6 [==============================] - 0s 18ms/step - loss: 0.0083\n",
      "Epoch 42/100\n",
      "6/6 [==============================] - 0s 17ms/step - loss: 0.0081\n",
      "Epoch 43/100\n",
      "6/6 [==============================] - 0s 19ms/step - loss: 0.0080\n",
      "Epoch 44/100\n",
      "6/6 [==============================] - 0s 19ms/step - loss: 0.0079\n",
      "Epoch 45/100\n",
      "6/6 [==============================] - 0s 19ms/step - loss: 0.0079\n",
      "Epoch 46/100\n",
      "6/6 [==============================] - 0s 17ms/step - loss: 0.0080\n",
      "Epoch 47/100\n",
      "6/6 [==============================] - 0s 17ms/step - loss: 0.0079\n",
      "Epoch 48/100\n",
      "6/6 [==============================] - 0s 18ms/step - loss: 0.0077\n",
      "Epoch 49/100\n",
      "6/6 [==============================] - 0s 18ms/step - loss: 0.0075\n",
      "Epoch 50/100\n",
      "6/6 [==============================] - 0s 18ms/step - loss: 0.0077\n",
      "Epoch 51/100\n",
      "6/6 [==============================] - 0s 18ms/step - loss: 0.0075\n",
      "Epoch 52/100\n",
      "6/6 [==============================] - 0s 18ms/step - loss: 0.0075\n",
      "Epoch 53/100\n",
      "6/6 [==============================] - 0s 19ms/step - loss: 0.0074\n",
      "Epoch 54/100\n",
      "6/6 [==============================] - 0s 25ms/step - loss: 0.0074\n",
      "Epoch 55/100\n",
      "6/6 [==============================] - 0s 17ms/step - loss: 0.0075\n",
      "Epoch 56/100\n",
      "6/6 [==============================] - 0s 17ms/step - loss: 0.0075\n",
      "Epoch 57/100\n",
      "6/6 [==============================] - 0s 16ms/step - loss: 0.0073\n",
      "Epoch 58/100\n",
      "6/6 [==============================] - 0s 16ms/step - loss: 0.0073\n",
      "Epoch 59/100\n",
      "6/6 [==============================] - 0s 17ms/step - loss: 0.0072\n",
      "Epoch 60/100\n",
      "6/6 [==============================] - 0s 18ms/step - loss: 0.0071\n",
      "Epoch 61/100\n",
      "6/6 [==============================] - 0s 19ms/step - loss: 0.0072\n",
      "Epoch 62/100\n",
      "6/6 [==============================] - 0s 19ms/step - loss: 0.0072\n",
      "Epoch 63/100\n",
      "6/6 [==============================] - 0s 22ms/step - loss: 0.0071\n",
      "Epoch 64/100\n",
      "6/6 [==============================] - 0s 20ms/step - loss: 0.0072\n",
      "Epoch 65/100\n",
      "6/6 [==============================] - 0s 17ms/step - loss: 0.0072\n",
      "Epoch 66/100\n",
      "6/6 [==============================] - 0s 17ms/step - loss: 0.0070\n",
      "Epoch 67/100\n",
      "6/6 [==============================] - 0s 20ms/step - loss: 0.0073\n",
      "Epoch 68/100\n",
      "6/6 [==============================] - 0s 20ms/step - loss: 0.0074\n",
      "Epoch 69/100\n",
      "6/6 [==============================] - 0s 18ms/step - loss: 0.0072\n",
      "Epoch 70/100\n",
      "6/6 [==============================] - 0s 18ms/step - loss: 0.0071\n",
      "Epoch 71/100\n",
      "6/6 [==============================] - 0s 18ms/step - loss: 0.0071\n",
      "Epoch 72/100\n",
      "6/6 [==============================] - 0s 17ms/step - loss: 0.0068\n",
      "Epoch 73/100\n",
      "6/6 [==============================] - 0s 18ms/step - loss: 0.0074\n",
      "Epoch 74/100\n",
      "6/6 [==============================] - 0s 18ms/step - loss: 0.0075\n",
      "Epoch 75/100\n",
      "6/6 [==============================] - 0s 17ms/step - loss: 0.0074\n",
      "Epoch 76/100\n",
      "6/6 [==============================] - 0s 17ms/step - loss: 0.0073\n",
      "Epoch 77/100\n",
      "6/6 [==============================] - 0s 18ms/step - loss: 0.0070\n",
      "Epoch 78/100\n",
      "6/6 [==============================] - 0s 17ms/step - loss: 0.0071\n",
      "Epoch 79/100\n",
      "6/6 [==============================] - 0s 18ms/step - loss: 0.0068\n",
      "Epoch 80/100\n",
      "6/6 [==============================] - 0s 19ms/step - loss: 0.0068\n",
      "Epoch 81/100\n",
      "6/6 [==============================] - 0s 18ms/step - loss: 0.0066\n",
      "Epoch 82/100\n",
      "6/6 [==============================] - 0s 18ms/step - loss: 0.0066\n",
      "Epoch 83/100\n",
      "6/6 [==============================] - 0s 19ms/step - loss: 0.0067\n",
      "Epoch 84/100\n",
      "6/6 [==============================] - 0s 19ms/step - loss: 0.0066\n",
      "Epoch 85/100\n",
      "6/6 [==============================] - 0s 18ms/step - loss: 0.0066\n",
      "Epoch 86/100\n",
      "6/6 [==============================] - 0s 17ms/step - loss: 0.0066\n",
      "Epoch 87/100\n",
      "6/6 [==============================] - 0s 17ms/step - loss: 0.0065\n",
      "Epoch 88/100\n",
      "6/6 [==============================] - 0s 17ms/step - loss: 0.0068\n",
      "Epoch 89/100\n",
      "6/6 [==============================] - 0s 19ms/step - loss: 0.0064\n",
      "Epoch 90/100\n",
      "6/6 [==============================] - 0s 18ms/step - loss: 0.0064\n",
      "Epoch 91/100\n",
      "6/6 [==============================] - 0s 17ms/step - loss: 0.0064\n",
      "Epoch 92/100\n",
      "6/6 [==============================] - 0s 18ms/step - loss: 0.0065\n",
      "Epoch 93/100\n",
      "6/6 [==============================] - 0s 18ms/step - loss: 0.0063\n",
      "Epoch 94/100\n",
      "6/6 [==============================] - 0s 18ms/step - loss: 0.0065\n",
      "Epoch 95/100\n",
      "6/6 [==============================] - 0s 18ms/step - loss: 0.0063\n",
      "Epoch 96/100\n",
      "6/6 [==============================] - 0s 18ms/step - loss: 0.0063\n",
      "Epoch 97/100\n",
      "6/6 [==============================] - 0s 18ms/step - loss: 0.0062\n",
      "Epoch 98/100\n",
      "6/6 [==============================] - 0s 18ms/step - loss: 0.0064\n",
      "Epoch 99/100\n",
      "6/6 [==============================] - 0s 20ms/step - loss: 0.0063\n",
      "Epoch 100/100\n",
      "6/6 [==============================] - 0s 18ms/step - loss: 0.0063\n"
     ]
    },
    {
     "data": {
      "text/plain": [
       "<keras.callbacks.History at 0x1d6b9905748>"
      ]
     },
     "execution_count": 194,
     "metadata": {},
     "output_type": "execute_result"
    }
   ],
   "source": [
    "generator.fit([X_high, X_low, X_ele, X_other], Y, epochs=100)"
   ]
  },
  {
   "cell_type": "code",
   "execution_count": 195,
   "metadata": {},
   "outputs": [],
   "source": [
    "pred_Y = generator.predict([X_high[-1:], X_low[-1:], X_ele[-1:], X_other[-1:]])"
   ]
  },
  {
   "cell_type": "code",
   "execution_count": 196,
   "metadata": {},
   "outputs": [
    {
     "data": {
      "text/plain": [
       "(1, 2, 5, 5)"
      ]
     },
     "execution_count": 196,
     "metadata": {},
     "output_type": "execute_result"
    }
   ],
   "source": [
    "pred_Y.shape"
   ]
  },
  {
   "cell_type": "code",
   "execution_count": 112,
   "metadata": {},
   "outputs": [
    {
     "data": {
      "text/plain": [
       "0.010288388300887755"
      ]
     },
     "execution_count": 112,
     "metadata": {},
     "output_type": "execute_result"
    }
   ],
   "source": [
    "np.sqrt(np.mean(np.square(pred_Y[-1] - Y[-1])))"
   ]
  },
  {
   "cell_type": "code",
   "execution_count": 100,
   "metadata": {},
   "outputs": [
    {
     "data": {
      "text/plain": [
       "(0.008515162367835552, 0.6608753429840621)"
      ]
     },
     "execution_count": 100,
     "metadata": {},
     "output_type": "execute_result"
    }
   ],
   "source": [
    "from util_tools.data_processing import rsquared\n",
    "rsquared(pred_Y[0, 0].reshape((25)), Y[0,0].reshape((25)))"
   ]
  },
  {
   "cell_type": "code",
   "execution_count": 117,
   "metadata": {},
   "outputs": [],
   "source": [
    "pred_input = tf.keras.Input(shape=(n_pred, task_dim[0], task_dim[1]))\n",
    "y1 = tf.keras.layers.Flatten()(pred_input)\n",
    "'''\n",
    "condition_input = tf.keras.Input(shape=(3))\n",
    "y2 = tf.keras.layers.Dense(8, activation='relu')(condition_input)\n",
    "y = tf.keras.layers.Concatenate(axis=1)([y1, y2])\n",
    "'''\n",
    "y = tf.keras.layers.Dense(8, activation=tf.keras.layers.LeakyReLU())(y1)\n",
    "y = tf.keras.layers.Dropout(0.8)(y)\n",
    "y = tf.keras.layers.Dense(1, activation='sigmoid')(y)\n",
    "discriminator = tf.keras.Model([pred_input], y)\n",
    "discriminator.compile(loss='binary_crossentropy', optimizer='adam', metrics=['accuracy'])"
   ]
  },
  {
   "cell_type": "code",
   "execution_count": 118,
   "metadata": {},
   "outputs": [],
   "source": [
    "reload(util_tools.cGAN_model)\n",
    "from util_tools.cGAN_model import  Condition_GAN"
   ]
  },
  {
   "cell_type": "code",
   "execution_count": 122,
   "metadata": {},
   "outputs": [
    {
     "name": "stdout",
     "output_type": "stream",
     "text": [
      "Epoch:1, batch:1/6, real_loss=0.634, fake_loss=0.769, g_loss=0.692\n",
      "Epoch:1, batch:2/6, real_loss=0.586, fake_loss=0.953, g_loss=0.705\n",
      "Epoch:1, batch:3/6, real_loss=0.691, fake_loss=0.595, g_loss=0.688\n",
      "Epoch:1, batch:4/6, real_loss=0.383, fake_loss=0.807, g_loss=0.591\n",
      "Epoch:1, batch:5/6, real_loss=0.594, fake_loss=0.430, g_loss=0.600\n",
      "Epoch:1, batch:6/6, real_loss=0.358, fake_loss=0.644, g_loss=0.589\n",
      "Epoch:2, batch:1/6, real_loss=0.527, fake_loss=0.627, g_loss=0.709\n",
      "Epoch:2, batch:2/6, real_loss=0.447, fake_loss=0.860, g_loss=0.680\n",
      "Epoch:2, batch:3/6, real_loss=0.383, fake_loss=0.463, g_loss=0.615\n",
      "Epoch:2, batch:4/6, real_loss=0.484, fake_loss=0.496, g_loss=0.686\n",
      "Epoch:2, batch:5/6, real_loss=0.562, fake_loss=0.471, g_loss=0.647\n",
      "Epoch:2, batch:6/6, real_loss=0.605, fake_loss=0.767, g_loss=0.621\n",
      "Epoch:3, batch:1/6, real_loss=0.603, fake_loss=0.329, g_loss=0.619\n",
      "Epoch:3, batch:2/6, real_loss=0.694, fake_loss=0.643, g_loss=0.605\n",
      "Epoch:3, batch:3/6, real_loss=0.424, fake_loss=0.661, g_loss=0.638\n",
      "Epoch:3, batch:4/6, real_loss=0.368, fake_loss=0.380, g_loss=0.482\n",
      "Epoch:3, batch:5/6, real_loss=0.348, fake_loss=0.640, g_loss=0.573\n",
      "Epoch:3, batch:6/6, real_loss=0.715, fake_loss=0.356, g_loss=0.582\n",
      "Epoch:4, batch:1/6, real_loss=0.549, fake_loss=0.486, g_loss=0.534\n",
      "Epoch:4, batch:2/6, real_loss=0.197, fake_loss=0.375, g_loss=0.556\n",
      "Epoch:4, batch:3/6, real_loss=0.417, fake_loss=0.528, g_loss=0.468\n",
      "Epoch:4, batch:4/6, real_loss=0.526, fake_loss=0.456, g_loss=0.576\n",
      "Epoch:4, batch:5/6, real_loss=0.633, fake_loss=0.662, g_loss=0.529\n",
      "Epoch:4, batch:6/6, real_loss=0.444, fake_loss=0.670, g_loss=0.562\n",
      "Epoch:5, batch:1/6, real_loss=0.425, fake_loss=0.827, g_loss=0.510\n",
      "Epoch:5, batch:2/6, real_loss=0.466, fake_loss=0.423, g_loss=0.426\n",
      "Epoch:5, batch:3/6, real_loss=0.202, fake_loss=0.378, g_loss=0.493\n",
      "Epoch:5, batch:4/6, real_loss=0.667, fake_loss=0.347, g_loss=0.355\n",
      "Epoch:5, batch:5/6, real_loss=0.484, fake_loss=0.439, g_loss=0.486\n",
      "Epoch:5, batch:6/6, real_loss=0.652, fake_loss=0.554, g_loss=0.385\n"
     ]
    }
   ],
   "source": [
    "cGAN = Condition_GAN(generator, discriminator)\n",
    "cGAN.fit(5, 30, [X_high, X_low, X_ele, X_other], Y)"
   ]
  },
  {
   "cell_type": "code",
   "execution_count": 123,
   "metadata": {},
   "outputs": [
    {
     "data": {
      "text/plain": [
       "array([[[[0.8665214 , 1.2154813 , 0.5742026 , 1.1931497 , 0.71439743],\n",
       "         [0.9954182 , 0.3683976 , 0.8625089 , 1.425251  , 0.50635064],\n",
       "         [0.5054725 , 0.9580225 , 1.0433807 , 0.6285501 , 1.0431772 ],\n",
       "         [0.7981943 , 1.5731097 , 0.9249619 , 0.8616722 , 0.59727335],\n",
       "         [0.5140573 , 0.95949286, 0.6270662 , 1.241638  , 0.75372356]],\n",
       "\n",
       "        [[1.5097042 , 1.2523549 , 0.48150563, 1.2555624 , 0.7489146 ],\n",
       "         [1.6177773 , 0.7694826 , 0.40843403, 0.9733394 , 0.8524309 ],\n",
       "         [1.186528  , 1.5459706 , 1.0745908 , 1.2855966 , 1.4296491 ],\n",
       "         [0.7716894 , 0.9346115 , 0.77756846, 1.240102  , 0.8940858 ],\n",
       "         [0.54506534, 1.1562147 , 1.3063023 , 1.5097346 , 0.72588825]]],\n",
       "\n",
       "\n",
       "       [[[0.86630523, 1.2159221 , 0.5721369 , 1.1952002 , 0.71524763],\n",
       "         [0.9942844 , 0.36784196, 0.8628505 , 1.4258636 , 0.50646466],\n",
       "         [0.5058225 , 0.9570836 , 1.043303  , 0.62991464, 1.0408068 ],\n",
       "         [0.7978578 , 1.5721087 , 0.92737603, 0.8630987 , 0.59764117],\n",
       "         [0.51310474, 0.96111476, 0.6290221 , 1.2423925 , 0.7538085 ]],\n",
       "\n",
       "        [[1.5101273 , 1.2524109 , 0.48229408, 1.2542794 , 0.7493623 ],\n",
       "         [1.6197472 , 0.771124  , 0.40823758, 0.9727003 , 0.8529565 ],\n",
       "         [1.1868722 , 1.5451972 , 1.0749538 , 1.2837706 , 1.4300086 ],\n",
       "         [0.7722237 , 0.932832  , 0.77903545, 1.23902   , 0.896248  ],\n",
       "         [0.54496896, 1.155648  , 1.3073164 , 1.5098338 , 0.72491944]]],\n",
       "\n",
       "\n",
       "       [[[0.9642218 , 1.1762271 , 0.7729618 , 1.0990994 , 0.9253911 ],\n",
       "         [0.92118526, 0.5923449 , 0.86535573, 1.1892859 , 0.6758691 ],\n",
       "         [0.7153267 , 0.93814254, 0.99573654, 0.74083644, 1.0945442 ],\n",
       "         [0.8985897 , 1.2945501 , 0.9388555 , 0.9493995 , 0.7603525 ],\n",
       "         [0.7143208 , 0.9889705 , 0.8206961 , 1.1341176 , 0.9137201 ]],\n",
       "\n",
       "        [[1.2567563 , 1.0914258 , 0.6447321 , 1.2514688 , 0.8571166 ],\n",
       "         [1.3703289 , 0.8750631 , 0.58842397, 0.98757017, 0.9137446 ],\n",
       "         [1.1317685 , 1.387748  , 1.016206  , 1.20229   , 1.2760372 ],\n",
       "         [0.87016225, 0.994     , 0.9031281 , 1.1920605 , 0.8916324 ],\n",
       "         [0.701616  , 1.1045871 , 1.1028603 , 1.1458786 , 0.87269837]]]],\n",
       "      dtype=float32)"
      ]
     },
     "execution_count": 123,
     "metadata": {},
     "output_type": "execute_result"
    }
   ],
   "source": [
    "generator.predict([X_high[:3], X_low[:3], X_ele[:3], X_other[:3]])"
   ]
  },
  {
   "cell_type": "code",
   "execution_count": 25,
   "metadata": {},
   "outputs": [],
   "source": [
    "X = [X_high, X_low, X_ele, X_other]\n",
    "j =0\n",
    "batch_size=2\n",
    "batch_X = [d[j*batch_size:(j+1)*batch_size] for d in X]"
   ]
  },
  {
   "cell_type": "code",
   "execution_count": 28,
   "metadata": {},
   "outputs": [
    {
     "data": {
      "text/plain": [
       "(2, 4, 5, 5, 1)"
      ]
     },
     "execution_count": 28,
     "metadata": {},
     "output_type": "execute_result"
    }
   ],
   "source": [
    "batch_X[0].shape"
   ]
  },
  {
   "cell_type": "code",
   "execution_count": 30,
   "metadata": {},
   "outputs": [
    {
     "data": {
      "text/plain": [
       "array([[0],\n",
       "       [0]])"
      ]
     },
     "execution_count": 30,
     "metadata": {},
     "output_type": "execute_result"
    }
   ],
   "source": [
    "np.zeros((batch_size, 1), dtype='int')"
   ]
  },
  {
   "cell_type": "markdown",
   "metadata": {},
   "source": [
    "# 3. downscaler test"
   ]
  },
  {
   "cell_type": "code",
   "execution_count": 215,
   "metadata": {},
   "outputs": [],
   "source": [
    "reload(downscale)\n",
    "from util_tools import downscale"
   ]
  },
  {
   "cell_type": "code",
   "execution_count": 216,
   "metadata": {},
   "outputs": [],
   "source": [
    "dscler = downscale.downscaler(generator)"
   ]
  },
  {
   "cell_type": "code",
   "execution_count": 217,
   "metadata": {},
   "outputs": [],
   "source": [
    "h_data = g_data[10:10+n_lag]\n",
    "l_data = m_data[1836: 1856]\n",
    "days = list(range(1836, 1856))"
   ]
  },
  {
   "cell_type": "code",
   "execution_count": 219,
   "metadata": {},
   "outputs": [],
   "source": [
    "downscaled_data = dscler.downscale(h_data, l_data, ele_data,  [G_lats, G_lons, M_lats, M_lons], days, n_lag, n_pred, task_dim)"
   ]
  },
  {
   "cell_type": "code",
   "execution_count": 220,
   "metadata": {},
   "outputs": [
    {
     "data": {
      "text/plain": [
       "(16, 123, 207)"
      ]
     },
     "execution_count": 220,
     "metadata": {},
     "output_type": "execute_result"
    }
   ],
   "source": [
    "downscaled_data.shape"
   ]
  },
  {
   "cell_type": "code",
   "execution_count": 221,
   "metadata": {},
   "outputs": [
    {
     "data": {
      "text/plain": [
       "(4, 123, 207)"
      ]
     },
     "execution_count": 221,
     "metadata": {},
     "output_type": "execute_result"
    }
   ],
   "source": [
    "h_data.shape"
   ]
  },
  {
   "cell_type": "code",
   "execution_count": null,
   "metadata": {},
   "outputs": [],
   "source": []
  }
 ],
 "metadata": {
  "kernelspec": {
   "display_name": "Downscale_env",
   "language": "python",
   "name": "downscale_env"
  },
  "language_info": {
   "codemirror_mode": {
    "name": "ipython",
    "version": 3
   },
   "file_extension": ".py",
   "mimetype": "text/x-python",
   "name": "python",
   "nbconvert_exporter": "python",
   "pygments_lexer": "ipython3",
   "version": "3.7.9"
  }
 },
 "nbformat": 4,
 "nbformat_minor": 4
}
