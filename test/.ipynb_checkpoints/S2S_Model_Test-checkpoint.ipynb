{
 "cells": [
  {
   "cell_type": "code",
   "execution_count": 1,
   "metadata": {},
   "outputs": [
    {
     "name": "stderr",
     "output_type": "stream",
     "text": [
      "C:\\Users\\96349\\anaconda3\\envs\\Downscale_env\\lib\\site-packages\\tensorboard\\compat\\tensorflow_stub\\dtypes.py:541: FutureWarning: Passing (type, 1) or '1type' as a synonym of type is deprecated; in a future version of numpy, it will be understood as (type, (1,)) / '(1,)type'.\n",
      "  _np_qint8 = np.dtype([(\"qint8\", np.int8, 1)])\n",
      "C:\\Users\\96349\\anaconda3\\envs\\Downscale_env\\lib\\site-packages\\tensorboard\\compat\\tensorflow_stub\\dtypes.py:542: FutureWarning: Passing (type, 1) or '1type' as a synonym of type is deprecated; in a future version of numpy, it will be understood as (type, (1,)) / '(1,)type'.\n",
      "  _np_quint8 = np.dtype([(\"quint8\", np.uint8, 1)])\n",
      "C:\\Users\\96349\\anaconda3\\envs\\Downscale_env\\lib\\site-packages\\tensorboard\\compat\\tensorflow_stub\\dtypes.py:543: FutureWarning: Passing (type, 1) or '1type' as a synonym of type is deprecated; in a future version of numpy, it will be understood as (type, (1,)) / '(1,)type'.\n",
      "  _np_qint16 = np.dtype([(\"qint16\", np.int16, 1)])\n",
      "C:\\Users\\96349\\anaconda3\\envs\\Downscale_env\\lib\\site-packages\\tensorboard\\compat\\tensorflow_stub\\dtypes.py:544: FutureWarning: Passing (type, 1) or '1type' as a synonym of type is deprecated; in a future version of numpy, it will be understood as (type, (1,)) / '(1,)type'.\n",
      "  _np_quint16 = np.dtype([(\"quint16\", np.uint16, 1)])\n",
      "C:\\Users\\96349\\anaconda3\\envs\\Downscale_env\\lib\\site-packages\\tensorboard\\compat\\tensorflow_stub\\dtypes.py:545: FutureWarning: Passing (type, 1) or '1type' as a synonym of type is deprecated; in a future version of numpy, it will be understood as (type, (1,)) / '(1,)type'.\n",
      "  _np_qint32 = np.dtype([(\"qint32\", np.int32, 1)])\n",
      "C:\\Users\\96349\\anaconda3\\envs\\Downscale_env\\lib\\site-packages\\tensorboard\\compat\\tensorflow_stub\\dtypes.py:550: FutureWarning: Passing (type, 1) or '1type' as a synonym of type is deprecated; in a future version of numpy, it will be understood as (type, (1,)) / '(1,)type'.\n",
      "  np_resource = np.dtype([(\"resource\", np.ubyte, 1)])\n"
     ]
    }
   ],
   "source": [
    "import os\n",
    "import sys\n",
    "import math\n",
    "import numpy as np\n",
    "import netCDF4 as nc\n",
    "from matplotlib import pyplot as plt\n",
    "from math import exp, sqrt, log\n",
    "import time\n",
    "import geopandas as gpd\n",
    "import pandas as pd\n",
    "import tensorflow as tf\n",
    "from tensorflow import keras\n",
    "from tensorflow.keras import layers\n",
    "from tensorflow.keras.models import Model\n",
    "if '..' not in sys.path:\n",
    "    sys.path.append('..')\n",
    "from importlib import reload\n",
    "#reload(util_tools)\n",
    "import util_tools\n",
    "from util_tools.data_loader import data_processer"
   ]
  },
  {
   "cell_type": "markdown",
   "metadata": {},
   "source": [
    "# 1. Data Processing"
   ]
  },
  {
   "cell_type": "code",
   "execution_count": 2,
   "metadata": {},
   "outputs": [],
   "source": [
    "# define necessary parameters\n",
    "target_var = 'DUSMASS'\n",
    "file_path_g_06 = r'C:\\Users\\96349\\Documents\\Downscale_data\\MERRA2\\G5NR_aerosol_variables_over_MiddleEast_daily_20060516-20070515.nc'\n",
    "file_path_g_05 = r'C:\\Users\\96349\\Documents\\Downscale_data\\MERRA2\\G5NR_aerosol_variables_over_MiddleEast_daily_20050516-20060515.nc'\n",
    "file_path_m = r'C:\\Users\\96349\\Documents\\Downscale_data\\MERRA2\\MERRA2_aerosol_variables_over_MiddleEast_daily_20000516-20180515.nc'\n",
    "file_path_ele = r'C:\\Users\\96349\\Documents\\Downscale_data\\elevation\\elevation_data.npy'\n",
    "file_path_country = [r'C:\\Users\\96349\\Documents\\Downscale_data\\Country_shape\\AFG_adm/AFG_adm0.shp',\n",
    "                     r'C:\\Users\\96349\\Documents\\Downscale_data\\Country_shape\\ARE_adm/ARE_adm0.shp',\n",
    "                     r'C:\\Users\\96349\\Documents\\Downscale_data\\Country_shape\\IRQ_adm/IRQ_adm0.shp',\n",
    "                     r'C:\\Users\\96349\\Documents\\Downscale_data\\Country_shape\\KWT_adm/KWT_adm0.shp',\n",
    "                     r'C:\\Users\\96349\\Documents\\Downscale_data\\Country_shape\\QAT_adm/QAT_adm0.shp',\n",
    "                     r'C:\\Users\\96349\\Documents\\Downscale_data\\Country_shape\\SAU_adm/SAU_adm0.shp']\n",
    "n_lag = 4\n",
    "n_pred = 2\n",
    "task_dim = [5, 5]"
   ]
  },
  {
   "cell_type": "code",
   "execution_count": 3,
   "metadata": {},
   "outputs": [],
   "source": [
    "reload(util_tools.data_loader)\n",
    "import util_tools.data_loader as data_loader"
   ]
  },
  {
   "cell_type": "code",
   "execution_count": 4,
   "metadata": {},
   "outputs": [],
   "source": [
    "data_processor = data_loader.data_processer(0.2, 10)\n",
    "g_data, m_data, [G_lats, G_lons, M_lats, M_lons], ele_data = data_processor.load_data(target_var, file_path_g_05, file_path_g_06, file_path_m, file_path_ele, file_path_country)"
   ]
  },
  {
   "cell_type": "code",
   "execution_count": 5,
   "metadata": {},
   "outputs": [],
   "source": [
    "m_data = data_processor.unify_m_data(g_data, m_data, G_lats, G_lons, M_lats, M_lons)"
   ]
  },
  {
   "cell_type": "code",
   "execution_count": 6,
   "metadata": {},
   "outputs": [],
   "source": [
    "match_m_data = m_data[range(1826, 1826+730), :, :]"
   ]
  },
  {
   "cell_type": "code",
   "execution_count": 7,
   "metadata": {},
   "outputs": [],
   "source": [
    "X_high, X_low, X_ele, X_other, Y = data_processor.flatten(g_data[:10, :10, :10], match_m_data[:10, :10, :10], ele_data[:10, :10],\n",
    "                                                          [G_lats[:10], G_lons[:10]], list(range(10)), n_lag=n_lag, n_pred=n_pred, task_dim=task_dim)"
   ]
  },
  {
   "cell_type": "code",
   "execution_count": 9,
   "metadata": {},
   "outputs": [
    {
     "data": {
      "text/plain": [
       "(180, 2, 5, 5)"
      ]
     },
     "execution_count": 9,
     "metadata": {},
     "output_type": "execute_result"
    }
   ],
   "source": [
    "Y.shape"
   ]
  },
  {
   "cell_type": "code",
   "execution_count": 10,
   "metadata": {},
   "outputs": [
    {
     "data": {
      "text/plain": [
       "(360, 2, 5, 5)"
      ]
     },
     "execution_count": 10,
     "metadata": {},
     "output_type": "execute_result"
    }
   ],
   "source": [
    "np.concatenate([Y, Y], axis=0).shape"
   ]
  },
  {
   "cell_type": "code",
   "execution_count": 13,
   "metadata": {},
   "outputs": [
    {
     "data": {
      "text/plain": [
       "array([1, 1, 1, 0, 0, 0])"
      ]
     },
     "execution_count": 13,
     "metadata": {},
     "output_type": "execute_result"
    }
   ],
   "source": [
    "np.array([1]*3+[0]*3)"
   ]
  },
  {
   "cell_type": "code",
   "execution_count": 106,
   "metadata": {},
   "outputs": [
    {
     "data": {
      "text/plain": [
       "(array([8.000000e+01, 3.600000e+01, 4.000000e+01, 4.000000e+01,\n",
       "        0.000000e+00, 4.000000e+01, 0.000000e+00, 0.000000e+00,\n",
       "        8.000000e+01, 3.500000e+01, 1.500000e+02, 0.000000e+00,\n",
       "        2.000000e+01, 8.000000e+01, 1.500000e+02, 2.400000e+02,\n",
       "        2.250000e+02, 1.120000e+02, 3.450000e+02, 8.100000e+02,\n",
       "        3.320000e+02, 4.800000e+02, 9.260000e+02, 8.600000e+02,\n",
       "        1.529000e+03, 1.397000e+03, 1.234000e+03, 1.062000e+03,\n",
       "        2.165000e+03, 2.520000e+03, 2.255000e+03, 2.725000e+03,\n",
       "        4.080000e+03, 3.994000e+03, 4.811000e+03, 6.892000e+03,\n",
       "        1.124900e+04, 9.082000e+03, 1.463400e+04, 1.554500e+04,\n",
       "        1.951800e+04, 3.051800e+04, 4.075500e+04, 5.405400e+04,\n",
       "        6.792400e+04, 1.020750e+05, 1.387730e+05, 1.995700e+05,\n",
       "        2.737010e+05, 3.523580e+05, 4.408580e+05, 5.515720e+05,\n",
       "        7.187690e+05, 8.903840e+05, 1.155296e+06, 1.422249e+06,\n",
       "        1.813775e+06, 2.325699e+06, 2.884360e+06, 3.546831e+06,\n",
       "        4.277757e+06, 5.139129e+06, 5.991417e+06, 6.867667e+06,\n",
       "        7.782329e+06, 8.603480e+06, 9.303668e+06, 9.631761e+06,\n",
       "        9.720269e+06, 9.616972e+06, 9.214252e+06, 8.617480e+06,\n",
       "        7.822092e+06, 7.045785e+06, 6.179805e+06, 5.306318e+06,\n",
       "        4.576117e+06, 3.934946e+06, 3.386858e+06, 2.900802e+06,\n",
       "        2.510439e+06, 2.147853e+06, 1.852785e+06, 1.618486e+06,\n",
       "        1.391693e+06, 1.157219e+06, 9.754340e+05, 7.527670e+05,\n",
       "        5.692160e+05, 4.229510e+05, 3.022630e+05, 2.078730e+05,\n",
       "        1.366860e+05, 8.422100e+04, 5.310200e+04, 2.959500e+04,\n",
       "        1.574700e+04, 8.019000e+03, 3.833000e+03, 3.900000e+02]),\n",
       " array([0.15023271, 0.15946033, 0.16868796, 0.17791559, 0.18714322,\n",
       "        0.19637085, 0.20559847, 0.2148261 , 0.22405373, 0.23328136,\n",
       "        0.24250898, 0.25173661, 0.26096424, 0.27019187, 0.2794195 ,\n",
       "        0.28864712, 0.29787475, 0.30710238, 0.31633001, 0.32555764,\n",
       "        0.33478526, 0.34401289, 0.35324052, 0.36246815, 0.37169577,\n",
       "        0.3809234 , 0.39015103, 0.39937866, 0.40860629, 0.41783391,\n",
       "        0.42706154, 0.43628917, 0.4455168 , 0.45474443, 0.46397205,\n",
       "        0.47319968, 0.48242731, 0.49165494, 0.50088256, 0.51011019,\n",
       "        0.51933782, 0.52856545, 0.53779308, 0.5470207 , 0.55624833,\n",
       "        0.56547596, 0.57470359, 0.58393122, 0.59315884, 0.60238647,\n",
       "        0.6116141 , 0.62084173, 0.63006935, 0.63929698, 0.64852461,\n",
       "        0.65775224, 0.66697987, 0.67620749, 0.68543512, 0.69466275,\n",
       "        0.70389038, 0.71311801, 0.72234563, 0.73157326, 0.74080089,\n",
       "        0.75002852, 0.75925614, 0.76848377, 0.7777114 , 0.78693903,\n",
       "        0.79616666, 0.80539428, 0.81462191, 0.82384954, 0.83307717,\n",
       "        0.8423048 , 0.85153242, 0.86076005, 0.86998768, 0.87921531,\n",
       "        0.88844293, 0.89767056, 0.90689819, 0.91612582, 0.92535345,\n",
       "        0.93458107, 0.9438087 , 0.95303633, 0.96226396, 0.97149159,\n",
       "        0.98071921, 0.98994684, 0.99917447, 1.0084021 , 1.01762972,\n",
       "        1.02685735, 1.03608498, 1.04531261, 1.05454024, 1.06376786,\n",
       "        1.07299549]),\n",
       " <BarContainer object of 100 artists>)"
      ]
     },
     "execution_count": 106,
     "metadata": {},
     "output_type": "execute_result"
    },
    {
     "data": {
      "image/png": "[encoded data removed]",
      "text/plain": [
       "<Figure size 432x288 with 1 Axes>"
      ]
     },
     "metadata": {
      "needs_background": "light"
     },
     "output_type": "display_data"
    }
   ],
   "source": [
    "plt.hist(m_data.reshape(np.prod(m_data.shape)), bins=100)"
   ]
  },
  {
   "cell_type": "code",
   "execution_count": 105,
   "metadata": {},
   "outputs": [
    {
     "data": {
      "text/plain": [
       "(array([3.000000e+00, 5.000000e+00, 1.000000e+01, 1.800000e+01,\n",
       "        2.900000e+01, 4.800000e+01, 5.700000e+01, 6.500000e+01,\n",
       "        9.500000e+01, 1.750000e+02, 2.180000e+02, 1.990000e+02,\n",
       "        1.950000e+02, 2.370000e+02, 3.260000e+02, 4.030000e+02,\n",
       "        5.460000e+02, 6.880000e+02, 8.040000e+02, 4.460000e+02,\n",
       "        3.130000e+02, 2.820000e+02, 2.880000e+02, 3.160000e+02,\n",
       "        3.420000e+02, 3.010000e+02, 3.120000e+02, 3.180000e+02,\n",
       "        3.210000e+02, 3.280000e+02, 3.410000e+02, 3.220000e+02,\n",
       "        3.010000e+02, 2.890000e+02, 2.050000e+02, 1.860000e+02,\n",
       "        1.830000e+02, 2.420000e+02, 1.980000e+02, 2.350000e+02,\n",
       "        2.430000e+02, 2.760000e+02, 3.080000e+02, 3.380000e+02,\n",
       "        3.730000e+02, 3.680000e+02, 4.060000e+02, 3.990000e+02,\n",
       "        4.160000e+02, 4.560000e+02, 5.310000e+02, 5.880000e+02,\n",
       "        5.010000e+02, 4.430000e+02, 4.730000e+02, 4.400000e+02,\n",
       "        3.960000e+02, 4.420000e+02, 4.550000e+02, 4.850000e+02,\n",
       "        4.370000e+02, 4.680000e+02, 4.500000e+02, 5.030000e+02,\n",
       "        4.890000e+02, 5.360000e+02, 6.180000e+02, 7.210000e+02,\n",
       "        8.610000e+02, 9.650000e+02, 9.110000e+02, 1.226000e+03,\n",
       "        1.670000e+03, 2.380000e+03, 2.462000e+03, 2.845000e+03,\n",
       "        3.328000e+03, 3.776000e+03, 4.703000e+03, 4.071000e+03,\n",
       "        3.024000e+03, 4.077000e+03, 5.171000e+03, 5.987000e+03,\n",
       "        9.069000e+03, 6.663000e+03, 2.799300e+04, 1.927580e+05,\n",
       "        6.727320e+05, 1.622754e+06, 2.589532e+06, 3.113772e+06,\n",
       "        2.993426e+06, 2.448527e+06, 1.932987e+06, 1.428502e+06,\n",
       "        9.086630e+05, 4.521280e+05, 1.093100e+05, 7.508000e+03]),\n",
       " array([0.        , 0.01007503, 0.02015005, 0.03022508, 0.0403001 ,\n",
       "        0.05037513, 0.06045016, 0.07052518, 0.08060021, 0.09067524,\n",
       "        0.10075026, 0.11082529, 0.12090031, 0.13097534, 0.14105037,\n",
       "        0.15112539, 0.16120042, 0.17127545, 0.18135047, 0.1914255 ,\n",
       "        0.20150052, 0.21157555, 0.22165058, 0.2317256 , 0.24180063,\n",
       "        0.25187566, 0.26195068, 0.27202571, 0.28210073, 0.29217576,\n",
       "        0.30225079, 0.31232581, 0.32240084, 0.33247587, 0.34255089,\n",
       "        0.35262592, 0.36270094, 0.37277597, 0.382851  , 0.39292602,\n",
       "        0.40300105, 0.41307608, 0.4231511 , 0.43322613, 0.44330115,\n",
       "        0.45337618, 0.46345121, 0.47352623, 0.48360126, 0.49367628,\n",
       "        0.50375131, 0.51382634, 0.52390136, 0.53397639, 0.54405142,\n",
       "        0.55412644, 0.56420147, 0.57427649, 0.58435152, 0.59442655,\n",
       "        0.60450157, 0.6145766 , 0.62465163, 0.63472665, 0.64480168,\n",
       "        0.6548767 , 0.66495173, 0.67502676, 0.68510178, 0.69517681,\n",
       "        0.70525184, 0.71532686, 0.72540189, 0.73547691, 0.74555194,\n",
       "        0.75562697, 0.76570199, 0.77577702, 0.78585205, 0.79592707,\n",
       "        0.8060021 , 0.81607712, 0.82615215, 0.83622718, 0.8463022 ,\n",
       "        0.85637723, 0.86645225, 0.87652728, 0.88660231, 0.89667733,\n",
       "        0.90675236, 0.91682739, 0.92690241, 0.93697744, 0.94705246,\n",
       "        0.95712749, 0.96720252, 0.97727754, 0.98735257, 0.9974276 ,\n",
       "        1.00750262]),\n",
       " <BarContainer object of 100 artists>)"
      ]
     },
     "execution_count": 105,
     "metadata": {},
     "output_type": "execute_result"
    },
    {
     "data": {
      "image/png": "[encoded data removed]",
      "text/plain": [
       "<Figure size 432x288 with 1 Axes>"
      ]
     },
     "metadata": {
      "needs_background": "light"
     },
     "output_type": "display_data"
    }
   ],
   "source": [
    "plt.hist(g_data.reshape(np.prod(g_data.shape)), bins=100)"
   ]
  },
  {
   "cell_type": "markdown",
   "metadata": {},
   "source": [
    "# 2. GAN model test"
   ]
  },
  {
   "cell_type": "code",
   "execution_count": 116,
   "metadata": {},
   "outputs": [],
   "source": [
    "def nnelu(input):\n",
    "    return tf.add(tf.constant(1, dtype=tf.float32), tf.nn.elu(input))\n",
    "\n",
    "high_input = tf.keras.Input(shape=(n_lag, task_dim[0], task_dim[1], 1))\n",
    "x1 = tf.keras.layers.ConvLSTM2D(16, kernel_size=(3,3), return_sequences=True, activation=tf.keras.layers.LeakyReLU())(high_input)\n",
    "x1 = tf.keras.layers.ConvLSTM2D(16, kernel_size=(3,3), return_sequences=True, activation=tf.keras.layers.LeakyReLU())(x1)\n",
    "x1 = tf.keras.layers.ConvLSTM2D(16, kernel_size=(1,1), activation=tf.keras.layers.LeakyReLU())(x1)\n",
    "x1 = tf.keras.layers.Flatten()(x1)\n",
    "\n",
    "low_input = tf.keras.Input(shape=(n_lag, task_dim[0], task_dim[1], 1))\n",
    "x2 = tf.keras.layers.ConvLSTM2D(16, kernel_size=(3,3), activation=tf.keras.layers.LeakyReLU())(low_input)\n",
    "x2 = tf.keras.layers.Flatten()(x1)\n",
    "\n",
    "ele_input = tf.keras.Input(shape=(task_dim[0], task_dim[1], 1))\n",
    "x3 = tf.keras.layers.Conv2D(16, kernel_size=(3,3), activation=tf.keras.layers.LeakyReLU())(ele_input)\n",
    "x3 = tf.keras.layers.Flatten()(x3)\n",
    "\n",
    "other_input =  tf.keras.Input(shape=(3))\n",
    "x4 = tf.keras.layers.Dense(8, activation=tf.keras.layers.LeakyReLU())(other_input)\n",
    "\n",
    "x = tf.keras.layers.Concatenate(axis=1)([x1, x2, x3, x4])\n",
    "x = tf.keras.layers.Dropout(0.5)(x)\n",
    "x = tf.keras.layers.Dense(30, activation=tf.keras.layers.LeakyReLU())(x)\n",
    "x = tf.keras.layers.Dense(n_pred*np.prod(task_dim), activation=nnelu)(x)\n",
    "x = tf.keras.layers.Reshape([n_pred, task_dim[0], task_dim[1]])(x)\n",
    "generator = tf.keras.Model([high_input, low_input, ele_input, other_input], x)\n",
    "generator.compile(optimizer='adam', loss='mean_absolute_error')"
   ]
  },
  {
   "cell_type": "code",
   "execution_count": 105,
   "metadata": {},
   "outputs": [
    {
     "name": "stdout",
     "output_type": "stream",
     "text": [
      "Epoch 1/100\n",
      "6/6 [==============================] - 12s 16ms/step - loss: 0.1867\n",
      "Epoch 2/100\n",
      "6/6 [==============================] - 0s 16ms/step - loss: 0.1435\n",
      "Epoch 3/100\n",
      "6/6 [==============================] - 0s 16ms/step - loss: 0.1132\n",
      "Epoch 4/100\n",
      "6/6 [==============================] - 0s 16ms/step - loss: 0.0977\n",
      "Epoch 5/100\n",
      "6/6 [==============================] - 0s 19ms/step - loss: 0.0825\n",
      "Epoch 6/100\n",
      "6/6 [==============================] - 0s 16ms/step - loss: 0.0711\n",
      "Epoch 7/100\n",
      "6/6 [==============================] - 0s 16ms/step - loss: 0.0630\n",
      "Epoch 8/100\n",
      "6/6 [==============================] - 0s 18ms/step - loss: 0.0555\n",
      "Epoch 9/100\n",
      "6/6 [==============================] - 0s 17ms/step - loss: 0.0504\n",
      "Epoch 10/100\n",
      "6/6 [==============================] - 0s 17ms/step - loss: 0.0432\n",
      "Epoch 11/100\n",
      "6/6 [==============================] - 0s 17ms/step - loss: 0.0409\n",
      "Epoch 12/100\n",
      "6/6 [==============================] - 0s 19ms/step - loss: 0.0358\n",
      "Epoch 13/100\n",
      "6/6 [==============================] - 0s 19ms/step - loss: 0.0322\n",
      "Epoch 14/100\n",
      "6/6 [==============================] - 0s 19ms/step - loss: 0.0295\n",
      "Epoch 15/100\n",
      "6/6 [==============================] - 0s 20ms/step - loss: 0.0262\n",
      "Epoch 16/100\n",
      "6/6 [==============================] - 0s 19ms/step - loss: 0.0235\n",
      "Epoch 17/100\n",
      "6/6 [==============================] - 0s 19ms/step - loss: 0.0221\n",
      "Epoch 18/100\n",
      "6/6 [==============================] - 0s 18ms/step - loss: 0.0203\n",
      "Epoch 19/100\n",
      "6/6 [==============================] - 0s 17ms/step - loss: 0.0194\n",
      "Epoch 20/100\n",
      "6/6 [==============================] - 0s 18ms/step - loss: 0.0180\n",
      "Epoch 21/100\n",
      "6/6 [==============================] - 0s 18ms/step - loss: 0.0167\n",
      "Epoch 22/100\n",
      "6/6 [==============================] - 0s 18ms/step - loss: 0.0161\n",
      "Epoch 23/100\n",
      "6/6 [==============================] - 0s 20ms/step - loss: 0.0144\n",
      "Epoch 24/100\n",
      "6/6 [==============================] - 0s 21ms/step - loss: 0.0137\n",
      "Epoch 25/100\n",
      "6/6 [==============================] - 0s 19ms/step - loss: 0.0132\n",
      "Epoch 26/100\n",
      "6/6 [==============================] - 0s 19ms/step - loss: 0.0127\n",
      "Epoch 27/100\n",
      "6/6 [==============================] - 0s 20ms/step - loss: 0.0120\n",
      "Epoch 28/100\n",
      "6/6 [==============================] - 0s 19ms/step - loss: 0.0118\n",
      "Epoch 29/100\n",
      "6/6 [==============================] - 0s 21ms/step - loss: 0.0111\n",
      "Epoch 30/100\n",
      "6/6 [==============================] - 0s 20ms/step - loss: 0.0107\n",
      "Epoch 31/100\n",
      "6/6 [==============================] - 0s 20ms/step - loss: 0.0104\n",
      "Epoch 32/100\n",
      "6/6 [==============================] - 0s 24ms/step - loss: 0.0102\n",
      "Epoch 33/100\n",
      "6/6 [==============================] - 0s 24ms/step - loss: 0.0101\n",
      "Epoch 34/100\n",
      "6/6 [==============================] - 0s 23ms/step - loss: 0.0098\n",
      "Epoch 35/100\n",
      "6/6 [==============================] - 0s 21ms/step - loss: 0.0098\n",
      "Epoch 36/100\n",
      "6/6 [==============================] - 0s 20ms/step - loss: 0.0094\n",
      "Epoch 37/100\n",
      "6/6 [==============================] - 0s 25ms/step - loss: 0.0093\n",
      "Epoch 38/100\n",
      "6/6 [==============================] - 0s 24ms/step - loss: 0.0090\n",
      "Epoch 39/100\n",
      "6/6 [==============================] - 0s 24ms/step - loss: 0.0089\n",
      "Epoch 40/100\n",
      "6/6 [==============================] - 0s 21ms/step - loss: 0.0089\n",
      "Epoch 41/100\n",
      "6/6 [==============================] - 0s 21ms/step - loss: 0.0086\n",
      "Epoch 42/100\n",
      "6/6 [==============================] - 0s 20ms/step - loss: 0.0086\n",
      "Epoch 43/100\n",
      "6/6 [==============================] - 0s 19ms/step - loss: 0.0084\n",
      "Epoch 44/100\n",
      "6/6 [==============================] - 0s 22ms/step - loss: 0.0082\n",
      "Epoch 45/100\n",
      "6/6 [==============================] - 0s 22ms/step - loss: 0.0082\n",
      "Epoch 46/100\n",
      "6/6 [==============================] - 0s 22ms/step - loss: 0.0080\n",
      "Epoch 47/100\n",
      "6/6 [==============================] - 0s 22ms/step - loss: 0.0079\n",
      "Epoch 48/100\n",
      "6/6 [==============================] - 0s 23ms/step - loss: 0.0080\n",
      "Epoch 49/100\n",
      "6/6 [==============================] - 0s 19ms/step - loss: 0.0079\n",
      "Epoch 50/100\n",
      "6/6 [==============================] - 0s 18ms/step - loss: 0.0078\n",
      "Epoch 51/100\n",
      "6/6 [==============================] - 0s 18ms/step - loss: 0.0079\n",
      "Epoch 52/100\n",
      "6/6 [==============================] - 0s 17ms/step - loss: 0.0079\n",
      "Epoch 53/100\n",
      "6/6 [==============================] - 0s 17ms/step - loss: 0.0076\n",
      "Epoch 54/100\n",
      "6/6 [==============================] - 0s 17ms/step - loss: 0.0076\n",
      "Epoch 55/100\n",
      "6/6 [==============================] - 0s 18ms/step - loss: 0.0076\n",
      "Epoch 56/100\n",
      "6/6 [==============================] - 0s 21ms/step - loss: 0.0074\n",
      "Epoch 57/100\n",
      "6/6 [==============================] - 0s 21ms/step - loss: 0.0074\n",
      "Epoch 58/100\n",
      "6/6 [==============================] - 0s 20ms/step - loss: 0.0073\n",
      "Epoch 59/100\n",
      "6/6 [==============================] - 0s 19ms/step - loss: 0.0074\n",
      "Epoch 60/100\n",
      "6/6 [==============================] - 0s 17ms/step - loss: 0.0073\n",
      "Epoch 61/100\n",
      "6/6 [==============================] - 0s 16ms/step - loss: 0.0071\n",
      "Epoch 62/100\n",
      "6/6 [==============================] - 0s 18ms/step - loss: 0.0071\n",
      "Epoch 63/100\n",
      "6/6 [==============================] - 0s 19ms/step - loss: 0.0071\n",
      "Epoch 64/100\n",
      "6/6 [==============================] - 0s 22ms/step - loss: 0.0070\n",
      "Epoch 65/100\n",
      "6/6 [==============================] - 0s 22ms/step - loss: 0.0071\n",
      "Epoch 66/100\n",
      "6/6 [==============================] - 0s 22ms/step - loss: 0.0070\n",
      "Epoch 67/100\n",
      "6/6 [==============================] - 0s 22ms/step - loss: 0.0070\n",
      "Epoch 68/100\n",
      "6/6 [==============================] - 0s 19ms/step - loss: 0.0069\n",
      "Epoch 69/100\n",
      "6/6 [==============================] - 0s 18ms/step - loss: 0.0069\n",
      "Epoch 70/100\n",
      "6/6 [==============================] - 0s 17ms/step - loss: 0.0068\n",
      "Epoch 71/100\n",
      "6/6 [==============================] - 0s 16ms/step - loss: 0.0070\n",
      "Epoch 72/100\n",
      "6/6 [==============================] - 0s 16ms/step - loss: 0.0068\n",
      "Epoch 73/100\n",
      "6/6 [==============================] - 0s 16ms/step - loss: 0.0067\n",
      "Epoch 74/100\n",
      "6/6 [==============================] - 0s 17ms/step - loss: 0.0068\n",
      "Epoch 75/100\n",
      "6/6 [==============================] - 0s 18ms/step - loss: 0.0068\n",
      "Epoch 76/100\n",
      "6/6 [==============================] - 0s 18ms/step - loss: 0.0067\n",
      "Epoch 77/100\n",
      "6/6 [==============================] - 0s 18ms/step - loss: 0.0067\n",
      "Epoch 78/100\n",
      "6/6 [==============================] - 0s 18ms/step - loss: 0.0068\n",
      "Epoch 79/100\n",
      "6/6 [==============================] - 0s 19ms/step - loss: 0.0067\n",
      "Epoch 80/100\n",
      "6/6 [==============================] - 0s 18ms/step - loss: 0.0066\n",
      "Epoch 81/100\n",
      "6/6 [==============================] - 0s 16ms/step - loss: 0.0065\n",
      "Epoch 82/100\n",
      "6/6 [==============================] - 0s 16ms/step - loss: 0.0065\n",
      "Epoch 83/100\n",
      "6/6 [==============================] - 0s 16ms/step - loss: 0.0065\n",
      "Epoch 84/100\n",
      "6/6 [==============================] - 0s 17ms/step - loss: 0.0066\n",
      "Epoch 85/100\n",
      "6/6 [==============================] - 0s 18ms/step - loss: 0.0065\n",
      "Epoch 86/100\n",
      "6/6 [==============================] - 0s 18ms/step - loss: 0.0066\n",
      "Epoch 87/100\n",
      "6/6 [==============================] - 0s 18ms/step - loss: 0.0064\n",
      "Epoch 88/100\n",
      "6/6 [==============================] - 0s 17ms/step - loss: 0.0064\n",
      "Epoch 89/100\n",
      "6/6 [==============================] - 0s 22ms/step - loss: 0.0063\n",
      "Epoch 90/100\n",
      "6/6 [==============================] - 0s 22ms/step - loss: 0.0066\n",
      "Epoch 91/100\n",
      "6/6 [==============================] - 0s 20ms/step - loss: 0.0063\n",
      "Epoch 92/100\n",
      "6/6 [==============================] - 0s 20ms/step - loss: 0.0063\n",
      "Epoch 93/100\n",
      "6/6 [==============================] - 0s 20ms/step - loss: 0.0066\n",
      "Epoch 94/100\n",
      "6/6 [==============================] - 0s 22ms/step - loss: 0.0066\n",
      "Epoch 95/100\n",
      "6/6 [==============================] - 0s 22ms/step - loss: 0.0066\n",
      "Epoch 96/100\n",
      "6/6 [==============================] - 0s 22ms/step - loss: 0.0065\n",
      "Epoch 97/100\n",
      "6/6 [==============================] - 0s 20ms/step - loss: 0.0064\n",
      "Epoch 98/100\n",
      "6/6 [==============================] - 0s 19ms/step - loss: 0.0064\n",
      "Epoch 99/100\n",
      "6/6 [==============================] - 0s 21ms/step - loss: 0.0061\n",
      "Epoch 100/100\n",
      "6/6 [==============================] - 0s 19ms/step - loss: 0.0061\n"
     ]
    },
    {
     "data": {
      "text/plain": [
       "<keras.callbacks.History at 0x263d4423508>"
      ]
     },
     "execution_count": 105,
     "metadata": {},
     "output_type": "execute_result"
    }
   ],
   "source": [
    "generator.fit([X_high[:-1], X_low[:-1], X_ele[:-1], X_other[:-1]], Y[:-1], epochs=100)"
   ]
  },
  {
   "cell_type": "code",
   "execution_count": 109,
   "metadata": {},
   "outputs": [
    {
     "name": "stdout",
     "output_type": "stream",
     "text": [
      "WARNING:tensorflow:5 out of the last 127 calls to <function Model.make_predict_function.<locals>.predict_function at 0x00000263E0072DC8> triggered tf.function retracing. Tracing is expensive and the excessive number of tracings could be due to (1) creating @tf.function repeatedly in a loop, (2) passing tensors with different shapes, (3) passing Python objects instead of tensors. For (1), please define your @tf.function outside of the loop. For (2), @tf.function has experimental_relax_shapes=True option that relaxes argument shapes that can avoid unnecessary retracing. For (3), please refer to https://www.tensorflow.org/guide/function#controlling_retracing and https://www.tensorflow.org/api_docs/python/tf/function for  more details.\n"
     ]
    }
   ],
   "source": [
    "pred_Y = generator.predict([X_high[-1:], X_low[-1:], X_ele[-1:], X_other[-1:]])"
   ]
  },
  {
   "cell_type": "code",
   "execution_count": 112,
   "metadata": {},
   "outputs": [
    {
     "data": {
      "text/plain": [
       "0.010288388300887755"
      ]
     },
     "execution_count": 112,
     "metadata": {},
     "output_type": "execute_result"
    }
   ],
   "source": [
    "np.sqrt(np.mean(np.square(pred_Y[-1] - Y[-1])))"
   ]
  },
  {
   "cell_type": "code",
   "execution_count": 100,
   "metadata": {},
   "outputs": [
    {
     "data": {
      "text/plain": [
       "(0.008515162367835552, 0.6608753429840621)"
      ]
     },
     "execution_count": 100,
     "metadata": {},
     "output_type": "execute_result"
    }
   ],
   "source": [
    "from util_tools.data_processing import rsquared\n",
    "rsquared(pred_Y[0, 0].reshape((25)), Y[0,0].reshape((25)))"
   ]
  },
  {
   "cell_type": "code",
   "execution_count": 117,
   "metadata": {},
   "outputs": [],
   "source": [
    "pred_input = tf.keras.Input(shape=(n_pred, task_dim[0], task_dim[1]))\n",
    "y1 = tf.keras.layers.Flatten()(pred_input)\n",
    "'''\n",
    "condition_input = tf.keras.Input(shape=(3))\n",
    "y2 = tf.keras.layers.Dense(8, activation='relu')(condition_input)\n",
    "y = tf.keras.layers.Concatenate(axis=1)([y1, y2])\n",
    "'''\n",
    "y = tf.keras.layers.Dense(8, activation=tf.keras.layers.LeakyReLU())(y1)\n",
    "y = tf.keras.layers.Dropout(0.8)(y)\n",
    "y = tf.keras.layers.Dense(1, activation='sigmoid')(y)\n",
    "discriminator = tf.keras.Model([pred_input], y)\n",
    "discriminator.compile(loss='binary_crossentropy', optimizer='adam', metrics=['accuracy'])"
   ]
  },
  {
   "cell_type": "code",
   "execution_count": 118,
   "metadata": {},
   "outputs": [],
   "source": [
    "reload(util_tools.cGAN_model)\n",
    "from util_tools.cGAN_model import  Condition_GAN"
   ]
  },
  {
   "cell_type": "code",
   "execution_count": 122,
   "metadata": {},
   "outputs": [
    {
     "name": "stdout",
     "output_type": "stream",
     "text": [
      "Epoch:1, batch:1/6, real_loss=0.634, fake_loss=0.769, g_loss=0.692\n",
      "Epoch:1, batch:2/6, real_loss=0.586, fake_loss=0.953, g_loss=0.705\n",
      "Epoch:1, batch:3/6, real_loss=0.691, fake_loss=0.595, g_loss=0.688\n",
      "Epoch:1, batch:4/6, real_loss=0.383, fake_loss=0.807, g_loss=0.591\n",
      "Epoch:1, batch:5/6, real_loss=0.594, fake_loss=0.430, g_loss=0.600\n",
      "Epoch:1, batch:6/6, real_loss=0.358, fake_loss=0.644, g_loss=0.589\n",
      "Epoch:2, batch:1/6, real_loss=0.527, fake_loss=0.627, g_loss=0.709\n",
      "Epoch:2, batch:2/6, real_loss=0.447, fake_loss=0.860, g_loss=0.680\n",
      "Epoch:2, batch:3/6, real_loss=0.383, fake_loss=0.463, g_loss=0.615\n",
      "Epoch:2, batch:4/6, real_loss=0.484, fake_loss=0.496, g_loss=0.686\n",
      "Epoch:2, batch:5/6, real_loss=0.562, fake_loss=0.471, g_loss=0.647\n",
      "Epoch:2, batch:6/6, real_loss=0.605, fake_loss=0.767, g_loss=0.621\n",
      "Epoch:3, batch:1/6, real_loss=0.603, fake_loss=0.329, g_loss=0.619\n",
      "Epoch:3, batch:2/6, real_loss=0.694, fake_loss=0.643, g_loss=0.605\n",
      "Epoch:3, batch:3/6, real_loss=0.424, fake_loss=0.661, g_loss=0.638\n",
      "Epoch:3, batch:4/6, real_loss=0.368, fake_loss=0.380, g_loss=0.482\n",
      "Epoch:3, batch:5/6, real_loss=0.348, fake_loss=0.640, g_loss=0.573\n",
      "Epoch:3, batch:6/6, real_loss=0.715, fake_loss=0.356, g_loss=0.582\n",
      "Epoch:4, batch:1/6, real_loss=0.549, fake_loss=0.486, g_loss=0.534\n",
      "Epoch:4, batch:2/6, real_loss=0.197, fake_loss=0.375, g_loss=0.556\n",
      "Epoch:4, batch:3/6, real_loss=0.417, fake_loss=0.528, g_loss=0.468\n",
      "Epoch:4, batch:4/6, real_loss=0.526, fake_loss=0.456, g_loss=0.576\n",
      "Epoch:4, batch:5/6, real_loss=0.633, fake_loss=0.662, g_loss=0.529\n",
      "Epoch:4, batch:6/6, real_loss=0.444, fake_loss=0.670, g_loss=0.562\n",
      "Epoch:5, batch:1/6, real_loss=0.425, fake_loss=0.827, g_loss=0.510\n",
      "Epoch:5, batch:2/6, real_loss=0.466, fake_loss=0.423, g_loss=0.426\n",
      "Epoch:5, batch:3/6, real_loss=0.202, fake_loss=0.378, g_loss=0.493\n",
      "Epoch:5, batch:4/6, real_loss=0.667, fake_loss=0.347, g_loss=0.355\n",
      "Epoch:5, batch:5/6, real_loss=0.484, fake_loss=0.439, g_loss=0.486\n",
      "Epoch:5, batch:6/6, real_loss=0.652, fake_loss=0.554, g_loss=0.385\n"
     ]
    }
   ],
   "source": [
    "cGAN = Condition_GAN(generator, discriminator)\n",
    "cGAN.fit(5, 30, [X_high, X_low, X_ele, X_other], Y)"
   ]
  },
  {
   "cell_type": "code",
   "execution_count": 123,
   "metadata": {},
   "outputs": [
    {
     "data": {
      "text/plain": [
       "array([[[[0.8665214 , 1.2154813 , 0.5742026 , 1.1931497 , 0.71439743],\n",
       "         [0.9954182 , 0.3683976 , 0.8625089 , 1.425251  , 0.50635064],\n",
       "         [0.5054725 , 0.9580225 , 1.0433807 , 0.6285501 , 1.0431772 ],\n",
       "         [0.7981943 , 1.5731097 , 0.9249619 , 0.8616722 , 0.59727335],\n",
       "         [0.5140573 , 0.95949286, 0.6270662 , 1.241638  , 0.75372356]],\n",
       "\n",
       "        [[1.5097042 , 1.2523549 , 0.48150563, 1.2555624 , 0.7489146 ],\n",
       "         [1.6177773 , 0.7694826 , 0.40843403, 0.9733394 , 0.8524309 ],\n",
       "         [1.186528  , 1.5459706 , 1.0745908 , 1.2855966 , 1.4296491 ],\n",
       "         [0.7716894 , 0.9346115 , 0.77756846, 1.240102  , 0.8940858 ],\n",
       "         [0.54506534, 1.1562147 , 1.3063023 , 1.5097346 , 0.72588825]]],\n",
       "\n",
       "\n",
       "       [[[0.86630523, 1.2159221 , 0.5721369 , 1.1952002 , 0.71524763],\n",
       "         [0.9942844 , 0.36784196, 0.8628505 , 1.4258636 , 0.50646466],\n",
       "         [0.5058225 , 0.9570836 , 1.043303  , 0.62991464, 1.0408068 ],\n",
       "         [0.7978578 , 1.5721087 , 0.92737603, 0.8630987 , 0.59764117],\n",
       "         [0.51310474, 0.96111476, 0.6290221 , 1.2423925 , 0.7538085 ]],\n",
       "\n",
       "        [[1.5101273 , 1.2524109 , 0.48229408, 1.2542794 , 0.7493623 ],\n",
       "         [1.6197472 , 0.771124  , 0.40823758, 0.9727003 , 0.8529565 ],\n",
       "         [1.1868722 , 1.5451972 , 1.0749538 , 1.2837706 , 1.4300086 ],\n",
       "         [0.7722237 , 0.932832  , 0.77903545, 1.23902   , 0.896248  ],\n",
       "         [0.54496896, 1.155648  , 1.3073164 , 1.5098338 , 0.72491944]]],\n",
       "\n",
       "\n",
       "       [[[0.9642218 , 1.1762271 , 0.7729618 , 1.0990994 , 0.9253911 ],\n",
       "         [0.92118526, 0.5923449 , 0.86535573, 1.1892859 , 0.6758691 ],\n",
       "         [0.7153267 , 0.93814254, 0.99573654, 0.74083644, 1.0945442 ],\n",
       "         [0.8985897 , 1.2945501 , 0.9388555 , 0.9493995 , 0.7603525 ],\n",
       "         [0.7143208 , 0.9889705 , 0.8206961 , 1.1341176 , 0.9137201 ]],\n",
       "\n",
       "        [[1.2567563 , 1.0914258 , 0.6447321 , 1.2514688 , 0.8571166 ],\n",
       "         [1.3703289 , 0.8750631 , 0.58842397, 0.98757017, 0.9137446 ],\n",
       "         [1.1317685 , 1.387748  , 1.016206  , 1.20229   , 1.2760372 ],\n",
       "         [0.87016225, 0.994     , 0.9031281 , 1.1920605 , 0.8916324 ],\n",
       "         [0.701616  , 1.1045871 , 1.1028603 , 1.1458786 , 0.87269837]]]],\n",
       "      dtype=float32)"
      ]
     },
     "execution_count": 123,
     "metadata": {},
     "output_type": "execute_result"
    }
   ],
   "source": [
    "generator.predict([X_high[:3], X_low[:3], X_ele[:3], X_other[:3]])"
   ]
  },
  {
   "cell_type": "code",
   "execution_count": 25,
   "metadata": {},
   "outputs": [],
   "source": [
    "X = [X_high, X_low, X_ele, X_other]\n",
    "j =0\n",
    "batch_size=2\n",
    "batch_X = [d[j*batch_size:(j+1)*batch_size] for d in X]"
   ]
  },
  {
   "cell_type": "code",
   "execution_count": 28,
   "metadata": {},
   "outputs": [
    {
     "data": {
      "text/plain": [
       "(2, 4, 5, 5, 1)"
      ]
     },
     "execution_count": 28,
     "metadata": {},
     "output_type": "execute_result"
    }
   ],
   "source": [
    "batch_X[0].shape"
   ]
  },
  {
   "cell_type": "code",
   "execution_count": 30,
   "metadata": {},
   "outputs": [
    {
     "data": {
      "text/plain": [
       "array([[0],\n",
       "       [0]])"
      ]
     },
     "execution_count": 30,
     "metadata": {},
     "output_type": "execute_result"
    }
   ],
   "source": [
    "np.zeros((batch_size, 1), dtype='int')"
   ]
  },
  {
   "cell_type": "code",
   "execution_count": null,
   "metadata": {},
   "outputs": [],
   "source": []
  }
 ],
 "metadata": {
  "kernelspec": {
   "display_name": "Downscale_env",
   "language": "python",
   "name": "downscale_env"
  },
  "language_info": {
   "codemirror_mode": {
    "name": "ipython",
    "version": 3
   },
   "file_extension": ".py",
   "mimetype": "text/x-python",
   "name": "python",
   "nbconvert_exporter": "python",
   "pygments_lexer": "ipython3",
   "version": "3.7.9"
  }
 },
 "nbformat": 4,
 "nbformat_minor": 4
}
