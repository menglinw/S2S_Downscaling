{
 "cells": [
  {
   "cell_type": "code",
   "execution_count": 79,
   "metadata": {},
   "outputs": [],
   "source": [
    "import os\n",
    "import sys\n",
    "import math\n",
    "import numpy as np\n",
    "import netCDF4 as nc\n",
    "from matplotlib import pyplot as plt\n",
    "from math import exp, sqrt, log\n",
    "import time\n",
    "import geopandas as gpd\n",
    "import pandas as pd\n",
    "import tensorflow as tf\n",
    "from tensorflow import keras\n",
    "from tensorflow.keras import layers\n",
    "from tensorflow.keras.models import Model\n",
    "if '..' not in sys.path:\n",
    "    sys.path.append('..')\n",
    "from importlib import reload\n",
    "#reload(util_tools)\n",
    "import util_tools\n",
    "from util_tools.data_loader import data_processer"
   ]
  },
  {
   "cell_type": "code",
   "execution_count": 80,
   "metadata": {},
   "outputs": [],
   "source": [
    "# define necessary parameters\n",
    "target_var = 'DUSMASS'\n",
    "file_path_g_06 = r'C:\\Users\\96349\\Documents\\Downscale_data\\MERRA2\\G5NR_aerosol_variables_over_MiddleEast_daily_20060516-20070515.nc'\n",
    "file_path_g_05 = r'C:\\Users\\96349\\Documents\\Downscale_data\\MERRA2\\G5NR_aerosol_variables_over_MiddleEast_daily_20050516-20060515.nc'\n",
    "file_path_m = r'C:\\Users\\96349\\Documents\\Downscale_data\\MERRA2\\MERRA2_aerosol_variables_over_MiddleEast_daily_20000516-20180515.nc'\n",
    "file_path_ele = r'C:\\Users\\96349\\Documents\\Downscale_data\\elevation\\elevation_data.npy'\n",
    "file_path_country = [r'C:\\Users\\96349\\Documents\\Downscale_data\\Country_shape\\AFG_adm/AFG_adm0.shp',\n",
    "                     r'C:\\Users\\96349\\Documents\\Downscale_data\\Country_shape\\ARE_adm/ARE_adm0.shp',\n",
    "                     r'C:\\Users\\96349\\Documents\\Downscale_data\\Country_shape\\IRQ_adm/IRQ_adm0.shp',\n",
    "                     r'C:\\Users\\96349\\Documents\\Downscale_data\\Country_shape\\KWT_adm/KWT_adm0.shp',\n",
    "                     r'C:\\Users\\96349\\Documents\\Downscale_data\\Country_shape\\QAT_adm/QAT_adm0.shp',\n",
    "                     r'C:\\Users\\96349\\Documents\\Downscale_data\\Country_shape\\SAU_adm/SAU_adm0.shp']"
   ]
  },
  {
   "cell_type": "code",
   "execution_count": 97,
   "metadata": {},
   "outputs": [],
   "source": [
    "reload(util_tools.data_loader)\n",
    "import util_tools.data_loader as data_loader"
   ]
  },
  {
   "cell_type": "code",
   "execution_count": 98,
   "metadata": {},
   "outputs": [],
   "source": [
    "data_processor = data_loader.data_processer(0.2, 10)\n",
    "g_data, m_data, [G_lats, G_lons, M_lats, M_lons], ele_data = data_processor.load_data(target_var, file_path_g_05, file_path_g_06, file_path_m, file_path_ele, file_path_country)"
   ]
  },
  {
   "cell_type": "code",
   "execution_count": 99,
   "metadata": {},
   "outputs": [],
   "source": [
    "m_data = data_processor.unify_m_data(g_data, m_data, G_lats, G_lons, M_lats, M_lons)"
   ]
  },
  {
   "cell_type": "code",
   "execution_count": 106,
   "metadata": {},
   "outputs": [
    {
     "data": {
      "text/plain": [
       "(array([8.000000e+01, 3.600000e+01, 4.000000e+01, 4.000000e+01,\n",
       "        0.000000e+00, 4.000000e+01, 0.000000e+00, 0.000000e+00,\n",
       "        8.000000e+01, 3.500000e+01, 1.500000e+02, 0.000000e+00,\n",
       "        2.000000e+01, 8.000000e+01, 1.500000e+02, 2.400000e+02,\n",
       "        2.250000e+02, 1.120000e+02, 3.450000e+02, 8.100000e+02,\n",
       "        3.320000e+02, 4.800000e+02, 9.260000e+02, 8.600000e+02,\n",
       "        1.529000e+03, 1.397000e+03, 1.234000e+03, 1.062000e+03,\n",
       "        2.165000e+03, 2.520000e+03, 2.255000e+03, 2.725000e+03,\n",
       "        4.080000e+03, 3.994000e+03, 4.811000e+03, 6.892000e+03,\n",
       "        1.124900e+04, 9.082000e+03, 1.463400e+04, 1.554500e+04,\n",
       "        1.951800e+04, 3.051800e+04, 4.075500e+04, 5.405400e+04,\n",
       "        6.792400e+04, 1.020750e+05, 1.387730e+05, 1.995700e+05,\n",
       "        2.737010e+05, 3.523580e+05, 4.408580e+05, 5.515720e+05,\n",
       "        7.187690e+05, 8.903840e+05, 1.155296e+06, 1.422249e+06,\n",
       "        1.813775e+06, 2.325699e+06, 2.884360e+06, 3.546831e+06,\n",
       "        4.277757e+06, 5.139129e+06, 5.991417e+06, 6.867667e+06,\n",
       "        7.782329e+06, 8.603480e+06, 9.303668e+06, 9.631761e+06,\n",
       "        9.720269e+06, 9.616972e+06, 9.214252e+06, 8.617480e+06,\n",
       "        7.822092e+06, 7.045785e+06, 6.179805e+06, 5.306318e+06,\n",
       "        4.576117e+06, 3.934946e+06, 3.386858e+06, 2.900802e+06,\n",
       "        2.510439e+06, 2.147853e+06, 1.852785e+06, 1.618486e+06,\n",
       "        1.391693e+06, 1.157219e+06, 9.754340e+05, 7.527670e+05,\n",
       "        5.692160e+05, 4.229510e+05, 3.022630e+05, 2.078730e+05,\n",
       "        1.366860e+05, 8.422100e+04, 5.310200e+04, 2.959500e+04,\n",
       "        1.574700e+04, 8.019000e+03, 3.833000e+03, 3.900000e+02]),\n",
       " array([0.15023271, 0.15946033, 0.16868796, 0.17791559, 0.18714322,\n",
       "        0.19637085, 0.20559847, 0.2148261 , 0.22405373, 0.23328136,\n",
       "        0.24250898, 0.25173661, 0.26096424, 0.27019187, 0.2794195 ,\n",
       "        0.28864712, 0.29787475, 0.30710238, 0.31633001, 0.32555764,\n",
       "        0.33478526, 0.34401289, 0.35324052, 0.36246815, 0.37169577,\n",
       "        0.3809234 , 0.39015103, 0.39937866, 0.40860629, 0.41783391,\n",
       "        0.42706154, 0.43628917, 0.4455168 , 0.45474443, 0.46397205,\n",
       "        0.47319968, 0.48242731, 0.49165494, 0.50088256, 0.51011019,\n",
       "        0.51933782, 0.52856545, 0.53779308, 0.5470207 , 0.55624833,\n",
       "        0.56547596, 0.57470359, 0.58393122, 0.59315884, 0.60238647,\n",
       "        0.6116141 , 0.62084173, 0.63006935, 0.63929698, 0.64852461,\n",
       "        0.65775224, 0.66697987, 0.67620749, 0.68543512, 0.69466275,\n",
       "        0.70389038, 0.71311801, 0.72234563, 0.73157326, 0.74080089,\n",
       "        0.75002852, 0.75925614, 0.76848377, 0.7777114 , 0.78693903,\n",
       "        0.79616666, 0.80539428, 0.81462191, 0.82384954, 0.83307717,\n",
       "        0.8423048 , 0.85153242, 0.86076005, 0.86998768, 0.87921531,\n",
       "        0.88844293, 0.89767056, 0.90689819, 0.91612582, 0.92535345,\n",
       "        0.93458107, 0.9438087 , 0.95303633, 0.96226396, 0.97149159,\n",
       "        0.98071921, 0.98994684, 0.99917447, 1.0084021 , 1.01762972,\n",
       "        1.02685735, 1.03608498, 1.04531261, 1.05454024, 1.06376786,\n",
       "        1.07299549]),\n",
       " <BarContainer object of 100 artists>)"
      ]
     },
     "execution_count": 106,
     "metadata": {},
     "output_type": "execute_result"
    },
    {
     "data": {
      "image/png": "[encoded data removed]",
      "text/plain": [
       "<Figure size 432x288 with 1 Axes>"
      ]
     },
     "metadata": {
      "needs_background": "light"
     },
     "output_type": "display_data"
    }
   ],
   "source": [
    "plt.hist(m_data.reshape(np.prod(m_data.shape)), bins=100)"
   ]
  },
  {
   "cell_type": "code",
   "execution_count": 105,
   "metadata": {},
   "outputs": [
    {
     "data": {
      "text/plain": [
       "(array([3.000000e+00, 5.000000e+00, 1.000000e+01, 1.800000e+01,\n",
       "        2.900000e+01, 4.800000e+01, 5.700000e+01, 6.500000e+01,\n",
       "        9.500000e+01, 1.750000e+02, 2.180000e+02, 1.990000e+02,\n",
       "        1.950000e+02, 2.370000e+02, 3.260000e+02, 4.030000e+02,\n",
       "        5.460000e+02, 6.880000e+02, 8.040000e+02, 4.460000e+02,\n",
       "        3.130000e+02, 2.820000e+02, 2.880000e+02, 3.160000e+02,\n",
       "        3.420000e+02, 3.010000e+02, 3.120000e+02, 3.180000e+02,\n",
       "        3.210000e+02, 3.280000e+02, 3.410000e+02, 3.220000e+02,\n",
       "        3.010000e+02, 2.890000e+02, 2.050000e+02, 1.860000e+02,\n",
       "        1.830000e+02, 2.420000e+02, 1.980000e+02, 2.350000e+02,\n",
       "        2.430000e+02, 2.760000e+02, 3.080000e+02, 3.380000e+02,\n",
       "        3.730000e+02, 3.680000e+02, 4.060000e+02, 3.990000e+02,\n",
       "        4.160000e+02, 4.560000e+02, 5.310000e+02, 5.880000e+02,\n",
       "        5.010000e+02, 4.430000e+02, 4.730000e+02, 4.400000e+02,\n",
       "        3.960000e+02, 4.420000e+02, 4.550000e+02, 4.850000e+02,\n",
       "        4.370000e+02, 4.680000e+02, 4.500000e+02, 5.030000e+02,\n",
       "        4.890000e+02, 5.360000e+02, 6.180000e+02, 7.210000e+02,\n",
       "        8.610000e+02, 9.650000e+02, 9.110000e+02, 1.226000e+03,\n",
       "        1.670000e+03, 2.380000e+03, 2.462000e+03, 2.845000e+03,\n",
       "        3.328000e+03, 3.776000e+03, 4.703000e+03, 4.071000e+03,\n",
       "        3.024000e+03, 4.077000e+03, 5.171000e+03, 5.987000e+03,\n",
       "        9.069000e+03, 6.663000e+03, 2.799300e+04, 1.927580e+05,\n",
       "        6.727320e+05, 1.622754e+06, 2.589532e+06, 3.113772e+06,\n",
       "        2.993426e+06, 2.448527e+06, 1.932987e+06, 1.428502e+06,\n",
       "        9.086630e+05, 4.521280e+05, 1.093100e+05, 7.508000e+03]),\n",
       " array([0.        , 0.01007503, 0.02015005, 0.03022508, 0.0403001 ,\n",
       "        0.05037513, 0.06045016, 0.07052518, 0.08060021, 0.09067524,\n",
       "        0.10075026, 0.11082529, 0.12090031, 0.13097534, 0.14105037,\n",
       "        0.15112539, 0.16120042, 0.17127545, 0.18135047, 0.1914255 ,\n",
       "        0.20150052, 0.21157555, 0.22165058, 0.2317256 , 0.24180063,\n",
       "        0.25187566, 0.26195068, 0.27202571, 0.28210073, 0.29217576,\n",
       "        0.30225079, 0.31232581, 0.32240084, 0.33247587, 0.34255089,\n",
       "        0.35262592, 0.36270094, 0.37277597, 0.382851  , 0.39292602,\n",
       "        0.40300105, 0.41307608, 0.4231511 , 0.43322613, 0.44330115,\n",
       "        0.45337618, 0.46345121, 0.47352623, 0.48360126, 0.49367628,\n",
       "        0.50375131, 0.51382634, 0.52390136, 0.53397639, 0.54405142,\n",
       "        0.55412644, 0.56420147, 0.57427649, 0.58435152, 0.59442655,\n",
       "        0.60450157, 0.6145766 , 0.62465163, 0.63472665, 0.64480168,\n",
       "        0.6548767 , 0.66495173, 0.67502676, 0.68510178, 0.69517681,\n",
       "        0.70525184, 0.71532686, 0.72540189, 0.73547691, 0.74555194,\n",
       "        0.75562697, 0.76570199, 0.77577702, 0.78585205, 0.79592707,\n",
       "        0.8060021 , 0.81607712, 0.82615215, 0.83622718, 0.8463022 ,\n",
       "        0.85637723, 0.86645225, 0.87652728, 0.88660231, 0.89667733,\n",
       "        0.90675236, 0.91682739, 0.92690241, 0.93697744, 0.94705246,\n",
       "        0.95712749, 0.96720252, 0.97727754, 0.98735257, 0.9974276 ,\n",
       "        1.00750262]),\n",
       " <BarContainer object of 100 artists>)"
      ]
     },
     "execution_count": 105,
     "metadata": {},
     "output_type": "execute_result"
    },
    {
     "data": {
      "image/png": "[encoded data removed]",
      "text/plain": [
       "<Figure size 432x288 with 1 Axes>"
      ]
     },
     "metadata": {
      "needs_background": "light"
     },
     "output_type": "display_data"
    }
   ],
   "source": [
    "plt.hist(g_data.reshape(np.prod(g_data.shape)), bins=100)"
   ]
  },
  {
   "cell_type": "code",
   "execution_count": null,
   "metadata": {},
   "outputs": [],
   "source": []
  }
 ],
 "metadata": {
  "kernelspec": {
   "display_name": "Downscale_env",
   "language": "python",
   "name": "downscale_env"
  },
  "language_info": {
   "codemirror_mode": {
    "name": "ipython",
    "version": 3
   },
   "file_extension": ".py",
   "mimetype": "text/x-python",
   "name": "python",
   "nbconvert_exporter": "python",
   "pygments_lexer": "ipython3",
   "version": "3.7.9"
  }
 },
 "nbformat": 4,
 "nbformat_minor": 4
}
